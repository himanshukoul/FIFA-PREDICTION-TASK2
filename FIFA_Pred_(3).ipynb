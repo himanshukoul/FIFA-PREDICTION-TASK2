{
  "nbformat": 4,
  "nbformat_minor": 0,
  "metadata": {
    "colab": {
      "provenance": [],
      "include_colab_link": true
    },
    "kernelspec": {
      "name": "python3",
      "display_name": "Python 3"
    },
    "language_info": {
      "name": "python"
    }
  },
  "cells": [
    {
      "cell_type": "markdown",
      "metadata": {
        "id": "view-in-github",
        "colab_type": "text"
      },
      "source": [
        "<a href=\"https://colab.research.google.com/github/himanshukoul/FIFA-PREDICTION-TASK2/blob/main/FIFA_Pred_(3).ipynb\" target=\"_parent\"><img src=\"https://colab.research.google.com/assets/colab-badge.svg\" alt=\"Open In Colab\"/></a>"
      ]
    },
    {
      "cell_type": "markdown",
      "source": [
        "# New Section"
      ],
      "metadata": {
        "id": "RGRgFSVufedZ"
      }
    },
    {
      "cell_type": "code",
      "source": [
        "import pandas as pd\n",
        "import numpy as np\n",
        "\n",
        "dataset = pd.read_csv(\"international_matches.csv\")\n",
        "#from 2016\n",
        "y = dataset.iloc[18318:, 16].values\n",
        "\n",
        "#keeping away stats together\n",
        "dataset.insert(24, \"away_team_goalkeeper_score\",dataset.pop(\"away_team_goalkeeper_score\"))\n",
        "\n",
        "same_country_as_home = []\n",
        "for index, row in dataset.iterrows():\n",
        "    if row['country'] == row['home_team']:\n",
        "        same_country_as_home.append(0)\n",
        "    elif row['country'] == row['away_team']:\n",
        "        same_country_as_home.append(1)\n",
        "    else:\n",
        "      same_country_as_home.append(2)\n",
        "\n",
        "dataset.insert(1, \"same_country_as_home\", same_country_as_home)\n",
        "print(dataset.columns)\n",
        "print(dataset.isna().sum())\n",
        "#filling nan\n",
        "for i in range(-1,-5,-1):\n",
        "  homeTstats = dataset.columns[i-4]\n",
        "  dataset[homeTstats] = dataset[homeTstats].fillna(dataset.groupby('home_team')[homeTstats].transform('mean'))\n",
        "  awayTstats = dataset.columns[i]\n",
        "  dataset[awayTstats] = dataset[awayTstats].fillna(dataset.groupby('away_team')[awayTstats].transform('mean'))\n",
        "x = dataset.iloc[18318:,:].values\n",
        "print(x[0])\n",
        "print(y[0])\n",
        "dataset = dataset.drop(dataset.columns[[0,2,3,4,5,8,9,10,11,13,14,16,17]],axis=1)\n",
        "print(dataset.columns)\n",
        "print(dataset.isna().sum())\n",
        "x = dataset.iloc[18318:,:].values\n",
        "print(x[0])\n",
        "print(y[0])\n",
        "#some stats are still nan due to no stats available by country\n",
        "x_num = x[:,-8:].astype(float)\n",
        "mask = ~np.isnan(x_num).any(axis=1)\n",
        "print(mask)\n",
        "x = x[mask]\n",
        "y = y[mask]\n"
      ],
      "metadata": {
        "id": "POSC2up1yQF1",
        "colab": {
          "base_uri": "https://localhost:8080/"
        },
        "outputId": "5e2fe4c4-2958-4a54-f493-d2f67697bfcb"
      },
      "execution_count": 117,
      "outputs": [
        {
          "output_type": "stream",
          "name": "stdout",
          "text": [
            "Index(['date', 'same_country_as_home', 'home_team', 'away_team',\n",
            "       'home_team_continent', 'away_team_continent', 'home_team_fifa_rank',\n",
            "       'away_team_fifa_rank', 'home_team_total_fifa_points',\n",
            "       'away_team_total_fifa_points', 'home_team_score', 'away_team_score',\n",
            "       'tournament', 'city', 'country', 'neutral_location', 'shoot_out',\n",
            "       'home_team_result', 'home_team_goalkeeper_score',\n",
            "       'home_team_mean_defense_score', 'home_team_mean_offense_score',\n",
            "       'home_team_mean_midfield_score', 'away_team_mean_defense_score',\n",
            "       'away_team_mean_offense_score', 'away_team_mean_midfield_score',\n",
            "       'away_team_goalkeeper_score'],\n",
            "      dtype='object')\n",
            "date                                 0\n",
            "same_country_as_home                 0\n",
            "home_team                            0\n",
            "away_team                            0\n",
            "home_team_continent                  0\n",
            "away_team_continent                  0\n",
            "home_team_fifa_rank                  0\n",
            "away_team_fifa_rank                  0\n",
            "home_team_total_fifa_points          0\n",
            "away_team_total_fifa_points          0\n",
            "home_team_score                      0\n",
            "away_team_score                      0\n",
            "tournament                           0\n",
            "city                                 0\n",
            "country                              0\n",
            "neutral_location                     0\n",
            "shoot_out                            0\n",
            "home_team_result                     0\n",
            "home_team_goalkeeper_score       15542\n",
            "home_team_mean_defense_score     16134\n",
            "home_team_mean_offense_score     15411\n",
            "home_team_mean_midfield_score    15759\n",
            "away_team_mean_defense_score     16357\n",
            "away_team_mean_offense_score     15609\n",
            "away_team_mean_midfield_score    15942\n",
            "away_team_goalkeeper_score       15826\n",
            "dtype: int64\n",
            "['2016-01-03' 0 'India' 'Afghanistan' 'Asia' 'Asia' 166 150 132 193 2 1\n",
            " 'SAFF Cup' 'Thiruvananthapuram' 'India' False 'No' 'Win' 65.0 57.8 61.0\n",
            " 57.5 nan nan nan nan]\n",
            "Win\n",
            "Index(['same_country_as_home', 'home_team_fifa_rank', 'away_team_fifa_rank',\n",
            "       'tournament', 'neutral_location', 'home_team_goalkeeper_score',\n",
            "       'home_team_mean_defense_score', 'home_team_mean_offense_score',\n",
            "       'home_team_mean_midfield_score', 'away_team_mean_defense_score',\n",
            "       'away_team_mean_offense_score', 'away_team_mean_midfield_score',\n",
            "       'away_team_goalkeeper_score'],\n",
            "      dtype='object')\n",
            "same_country_as_home                0\n",
            "home_team_fifa_rank                 0\n",
            "away_team_fifa_rank                 0\n",
            "tournament                          0\n",
            "neutral_location                    0\n",
            "home_team_goalkeeper_score       5683\n",
            "home_team_mean_defense_score     8019\n",
            "home_team_mean_offense_score     6995\n",
            "home_team_mean_midfield_score    6955\n",
            "away_team_mean_defense_score     8285\n",
            "away_team_mean_offense_score     7165\n",
            "away_team_mean_midfield_score    7036\n",
            "away_team_goalkeeper_score       6254\n",
            "dtype: int64\n",
            "[0 166 150 'SAFF Cup' False 65.0 57.8 61.0 57.5 nan nan nan nan]\n",
            "Win\n",
            "[False False  True ...  True  True  True]\n"
          ]
        }
      ]
    },
    {
      "cell_type": "code",
      "source": [
        "print(np.isnan(x[:,-8:].astype(float)).any())\n",
        "print(len(x))\n",
        "print(x[0])\n",
        "print(y[0])"
      ],
      "metadata": {
        "colab": {
          "base_uri": "https://localhost:8080/"
        },
        "id": "zS9bKAtcHWaU",
        "outputId": "21ca7b7b-c38d-4b9e-aaad-e79d15ae2ad4"
      },
      "execution_count": 118,
      "outputs": [
        {
          "output_type": "stream",
          "name": "stdout",
          "text": [
            "False\n",
            "2572\n",
            "[2 35 93 'Friendly' True 73.0 77.0 80.7 76.8 66.66170212765957\n",
            " 61.817857142857136 63.56 64.0]\n",
            "Draw\n"
          ]
        }
      ]
    },
    {
      "cell_type": "code",
      "source": [
        "\"\"\"#filling leftover nans\n",
        "from sklearn.impute import SimpleImputer\n",
        "imputer = SimpleImputer(missing_values=np.nan, strategy='median')\n",
        "imputer.fit(x[:, -8:])\n",
        "x[:, -8:] = imputer.transform(x[:, -8:])\"\"\"\n"
      ],
      "metadata": {
        "id": "tha-hviJp5DT"
      },
      "execution_count": 18,
      "outputs": []
    },
    {
      "cell_type": "code",
      "source": [
        "print(x[0])\n",
        "print(len(np.unique(x[:,0])))\n",
        "print(len(np.unique(x[:,3])))\n",
        "print(len(np.unique(x[:,4])))"
      ],
      "metadata": {
        "colab": {
          "base_uri": "https://localhost:8080/"
        },
        "id": "uCLgyFgjb-EM",
        "outputId": "3d71ceb4-1545-400e-e288-b4863ccb18dc"
      },
      "execution_count": 119,
      "outputs": [
        {
          "output_type": "stream",
          "name": "stdout",
          "text": [
            "[2 35 93 'Friendly' True 73.0 77.0 80.7 76.8 66.66170212765957\n",
            " 61.817857142857136 63.56 64.0]\n",
            "2\n",
            "29\n",
            "2\n"
          ]
        }
      ]
    },
    {
      "cell_type": "code",
      "source": [
        "#!pip install category_encoders"
      ],
      "metadata": {
        "id": "8jJy5fL2Ce1o",
        "colab": {
          "base_uri": "https://localhost:8080/"
        },
        "outputId": "d649b519-e7b8-48d9-8865-250d82266302"
      },
      "execution_count": 24,
      "outputs": [
        {
          "output_type": "stream",
          "name": "stdout",
          "text": [
            "Requirement already satisfied: category_encoders in /usr/local/lib/python3.10/dist-packages (2.6.3)\n",
            "Requirement already satisfied: numpy>=1.14.0 in /usr/local/lib/python3.10/dist-packages (from category_encoders) (1.25.2)\n",
            "Requirement already satisfied: scikit-learn>=0.20.0 in /usr/local/lib/python3.10/dist-packages (from category_encoders) (1.2.2)\n",
            "Requirement already satisfied: scipy>=1.0.0 in /usr/local/lib/python3.10/dist-packages (from category_encoders) (1.11.4)\n",
            "Requirement already satisfied: statsmodels>=0.9.0 in /usr/local/lib/python3.10/dist-packages (from category_encoders) (0.14.2)\n",
            "Requirement already satisfied: pandas>=1.0.5 in /usr/local/lib/python3.10/dist-packages (from category_encoders) (2.0.3)\n",
            "Requirement already satisfied: patsy>=0.5.1 in /usr/local/lib/python3.10/dist-packages (from category_encoders) (0.5.6)\n",
            "Requirement already satisfied: python-dateutil>=2.8.2 in /usr/local/lib/python3.10/dist-packages (from pandas>=1.0.5->category_encoders) (2.8.2)\n",
            "Requirement already satisfied: pytz>=2020.1 in /usr/local/lib/python3.10/dist-packages (from pandas>=1.0.5->category_encoders) (2023.4)\n",
            "Requirement already satisfied: tzdata>=2022.1 in /usr/local/lib/python3.10/dist-packages (from pandas>=1.0.5->category_encoders) (2024.1)\n",
            "Requirement already satisfied: six in /usr/local/lib/python3.10/dist-packages (from patsy>=0.5.1->category_encoders) (1.16.0)\n",
            "Requirement already satisfied: joblib>=1.1.1 in /usr/local/lib/python3.10/dist-packages (from scikit-learn>=0.20.0->category_encoders) (1.4.0)\n",
            "Requirement already satisfied: threadpoolctl>=2.0.0 in /usr/local/lib/python3.10/dist-packages (from scikit-learn>=0.20.0->category_encoders) (3.4.0)\n",
            "Requirement already satisfied: packaging>=21.3 in /usr/local/lib/python3.10/dist-packages (from statsmodels>=0.9.0->category_encoders) (24.0)\n"
          ]
        }
      ]
    },
    {
      "cell_type": "code",
      "source": [
        "from sklearn.compose import ColumnTransformer\n",
        "from sklearn.preprocessing import OneHotEncoder\n",
        "#import category_encoders as ce\n",
        "from sklearn.preprocessing import LabelEncoder\n",
        "le = LabelEncoder()\n",
        "print(y)\n",
        "y = le.fit_transform(y)\n",
        "print(y)\n",
        "\n",
        "#ct =  ColumnTransformer(transformers=[('encoder', ce.BinaryEncoder(), [0,1,5]),('encoder2', ce.BinaryEncoder(), [4])], remainder='passthrough')\n",
        "ct = ColumnTransformer(transformers=[('encoder', OneHotEncoder(sparse_output=False), [0,3,4],)], remainder='passthrough')\n",
        "x = np.array(ct.fit_transform(x))\n",
        "\n",
        "print(x[0])\n",
        "\n"
      ],
      "metadata": {
        "id": "GDudi355saFW",
        "colab": {
          "base_uri": "https://localhost:8080/"
        },
        "outputId": "158b3afd-eadc-4fa9-b8c7-6f6181eb696d"
      },
      "execution_count": 120,
      "outputs": [
        {
          "output_type": "stream",
          "name": "stdout",
          "text": [
            "['Draw' 'Lose' 'Win' ... 'Lose' 'Lose' 'Win']\n",
            "[0 1 2 ... 1 1 2]\n",
            "[0.0 1.0 0.0 0.0 0.0 0.0 0.0 0.0 0.0 0.0 0.0 0.0 0.0 0.0 0.0 0.0 0.0 0.0\n",
            " 0.0 0.0 1.0 0.0 0.0 0.0 0.0 0.0 0.0 0.0 0.0 0.0 0.0 0.0 1.0 35 93 73.0\n",
            " 77.0 80.7 76.8 66.66170212765957 61.817857142857136 63.56 64.0]\n"
          ]
        }
      ]
    },
    {
      "cell_type": "code",
      "source": [
        "print(len(x[0]))"
      ],
      "metadata": {
        "colab": {
          "base_uri": "https://localhost:8080/"
        },
        "id": "Ij-Sakx1g4yX",
        "outputId": "2efba850-882a-47d8-bc4e-360557fb7a0b"
      },
      "execution_count": 121,
      "outputs": [
        {
          "output_type": "stream",
          "name": "stdout",
          "text": [
            "43\n"
          ]
        }
      ]
    },
    {
      "cell_type": "code",
      "source": [
        "from sklearn.model_selection import train_test_split\n",
        "x_train,x_test,y_train,y_test = train_test_split(x, y, test_size = 0.2, random_state = 1)"
      ],
      "metadata": {
        "id": "qMtQ81YDgo-7"
      },
      "execution_count": 122,
      "outputs": []
    },
    {
      "cell_type": "code",
      "source": [
        "print(x_train[0])"
      ],
      "metadata": {
        "colab": {
          "base_uri": "https://localhost:8080/"
        },
        "id": "ZcIeGWoGvnau",
        "outputId": "3c730407-6f86-4875-a644-63e46e95e916"
      },
      "execution_count": 123,
      "outputs": [
        {
          "output_type": "stream",
          "name": "stdout",
          "text": [
            "[1.0 0.0 0.0 0.0 0.0 0.0 0.0 0.0 0.0 0.0 0.0 0.0 0.0 0.0 0.0 0.0 0.0 0.0\n",
            " 0.0 0.0 0.0 0.0 0.0 0.0 0.0 0.0 0.0 0.0 0.0 1.0 0.0 1.0 0.0 50 13 75.0\n",
            " 74.0 76.3 80.0 85.2 82.3 84.0 81.0]\n"
          ]
        }
      ]
    },
    {
      "cell_type": "code",
      "source": [
        "from sklearn.preprocessing import StandardScaler\n",
        "#29+2+2 = 33 encoded\n",
        "sc = StandardScaler()\n",
        "sc.fit(x_train[:,33:])\n",
        "x_train[:, 33:] = sc.transform(x_train[:, 33:])\n",
        "x_test[:, 33:] = sc.transform(x_test[:, 33:])\n",
        "print(x_train[0])\n"
      ],
      "metadata": {
        "colab": {
          "base_uri": "https://localhost:8080/"
        },
        "id": "KrlQpqZ5tHcp",
        "outputId": "29f6ab85-f897-43f1-bfd8-6300eccf27d9"
      },
      "execution_count": 124,
      "outputs": [
        {
          "output_type": "stream",
          "name": "stdout",
          "text": [
            "[1.0 0.0 0.0 0.0 0.0 0.0 0.0 0.0 0.0 0.0 0.0 0.0 0.0 0.0 0.0 0.0 0.0 0.0\n",
            " 0.0 0.0 0.0 0.0 0.0 0.0 0.0 0.0 0.0 0.0 0.0 1.0 0.0 1.0 0.0\n",
            " 0.1999257156088542 -0.9727096850708493 -0.18613471788009436\n",
            " -0.2782756399585211 0.03437073043602495 0.5743701557416129\n",
            " 1.8466776818206703 1.1536946461999542 1.4072706769493415\n",
            " 0.7472928132485457]\n"
          ]
        }
      ]
    },
    {
      "cell_type": "code",
      "source": [
        "from sklearn.neighbors import KNeighborsClassifier\n",
        "classifier = KNeighborsClassifier(n_neighbors = 20, metric = 'minkowski', p = 2)\n",
        "classifier.fit(x_train, y_train)\n",
        "y_pred = classifier.predict(x_test)\n",
        "from sklearn.metrics import confusion_matrix, accuracy_score\n",
        "cm = confusion_matrix(y_test, y_pred)\n",
        "print(cm)\n",
        "accuracy_score(y_test, y_pred)   #49%"
      ],
      "metadata": {
        "colab": {
          "base_uri": "https://localhost:8080/"
        },
        "id": "pU5_DDxT0FDp",
        "outputId": "b6188fc3-ef38-487f-8c69-dccfa549bde2"
      },
      "execution_count": 125,
      "outputs": [
        {
          "output_type": "stream",
          "name": "stdout",
          "text": [
            "[[  9  43  75]\n",
            " [ 24  63  56]\n",
            " [ 28  35 182]]\n"
          ]
        },
        {
          "output_type": "execute_result",
          "data": {
            "text/plain": [
              "0.49320388349514566"
            ]
          },
          "metadata": {},
          "execution_count": 125
        }
      ]
    },
    {
      "cell_type": "code",
      "source": [
        "from sklearn.svm import SVC\n",
        "classifier = SVC(kernel = 'sigmoid', random_state = 0)\n",
        "classifier.fit(x_train, y_train)\n",
        "y_pred = classifier.predict(x_test)\n",
        "from sklearn.metrics import confusion_matrix, accuracy_score\n",
        "cm = confusion_matrix(y_test, y_pred)\n",
        "print(cm)\n",
        "accuracy_score(y_test, y_pred)  #43.8%"
      ],
      "metadata": {
        "colab": {
          "base_uri": "https://localhost:8080/"
        },
        "id": "5bge5BiP0WRE",
        "outputId": "cadded9c-7882-4c73-8a2e-86188d8df8a4"
      },
      "execution_count": 126,
      "outputs": [
        {
          "output_type": "stream",
          "name": "stdout",
          "text": [
            "[[ 35  51  41]\n",
            " [ 42  75  26]\n",
            " [ 70  59 116]]\n"
          ]
        },
        {
          "output_type": "execute_result",
          "data": {
            "text/plain": [
              "0.4388349514563107"
            ]
          },
          "metadata": {},
          "execution_count": 126
        }
      ]
    },
    {
      "cell_type": "code",
      "source": [
        "from sklearn.tree import DecisionTreeClassifier\n",
        "classifier = DecisionTreeClassifier(criterion = 'entropy', random_state = 0)\n",
        "classifier.fit(x_train, y_train)\n",
        "y_pred = classifier.predict(x_test)\n",
        "from sklearn.metrics import confusion_matrix, accuracy_score\n",
        "cm = confusion_matrix(y_test, y_pred)\n",
        "print(cm)\n",
        "accuracy_score(y_test, y_pred)      # 47"
      ],
      "metadata": {
        "colab": {
          "base_uri": "https://localhost:8080/"
        },
        "id": "NFGXakFz05F6",
        "outputId": "b52ca8d2-bf25-4f12-b30a-3f8ebf782a88"
      },
      "execution_count": 127,
      "outputs": [
        {
          "output_type": "stream",
          "name": "stdout",
          "text": [
            "[[ 34  40  53]\n",
            " [ 35  64  44]\n",
            " [ 53  44 148]]\n"
          ]
        },
        {
          "output_type": "execute_result",
          "data": {
            "text/plain": [
              "0.47766990291262135"
            ]
          },
          "metadata": {},
          "execution_count": 127
        }
      ]
    },
    {
      "cell_type": "code",
      "source": [
        "from sklearn.ensemble import RandomForestClassifier\n",
        "classifier = RandomForestClassifier(n_estimators = 30, criterion = 'log_loss', random_state = 0)\n",
        "classifier.fit(x_train, y_train)\n",
        "y_pred = classifier.predict(x_test)\n",
        "from sklearn.metrics import confusion_matrix, accuracy_score\n",
        "cm = confusion_matrix(y_test, y_pred)\n",
        "print(cm)\n",
        "accuracy_score(y_test, y_pred)         # 49.12"
      ],
      "metadata": {
        "colab": {
          "base_uri": "https://localhost:8080/"
        },
        "id": "iz3tIhLg1Zcx",
        "outputId": "b8c6fcb0-1568-41fb-c36b-0958c6c5d998"
      },
      "execution_count": 128,
      "outputs": [
        {
          "output_type": "stream",
          "name": "stdout",
          "text": [
            "[[ 13  41  73]\n",
            " [ 29  66  48]\n",
            " [ 38  33 174]]\n"
          ]
        },
        {
          "output_type": "execute_result",
          "data": {
            "text/plain": [
              "0.4912621359223301"
            ]
          },
          "metadata": {},
          "execution_count": 128
        }
      ]
    },
    {
      "cell_type": "code",
      "source": [
        "from sklearn.svm import SVC\n",
        "classifier = SVC(kernel = 'linear', random_state = 0)\n",
        "classifier.fit(x_train, y_train)\n",
        "y_pred = classifier.predict(x_test)\n",
        "from sklearn.metrics import confusion_matrix, accuracy_score\n",
        "cm = confusion_matrix(y_test, y_pred)\n",
        "print(cm)\n",
        "accuracy_score(y_test, y_pred)          #59.6% (came best)"
      ],
      "metadata": {
        "colab": {
          "base_uri": "https://localhost:8080/"
        },
        "id": "Xn0zJOXG0wyS",
        "outputId": "dce3cdc7-0ea4-4a60-c6c6-d9544d466376"
      },
      "execution_count": 129,
      "outputs": [
        {
          "output_type": "stream",
          "name": "stdout",
          "text": [
            "[[  4  40  83]\n",
            " [  0  90  53]\n",
            " [  0  32 213]]\n"
          ]
        },
        {
          "output_type": "execute_result",
          "data": {
            "text/plain": [
              "0.596116504854369"
            ]
          },
          "metadata": {},
          "execution_count": 129
        }
      ]
    },
    {
      "cell_type": "code",
      "source": [
        "print(\"give a list with params for football match\")\n",
        "#[2 35 93 'Friendly' True 73.0 77.0 80.7 76.8 66.66170212765957 61.817857142857136 63.56 64.0]\n",
        "#eg ['England','Spain',7,5,'FIFA World Cup qualification','England',False,83,84,88,82,86,86,81,80]\n",
        "x_input = eval(input())\n",
        "if(x_input[0]==x_input[5]):\n",
        "  x_input[0] = 0\n",
        "elif(x_input[1]==x_input[5]):\n",
        "  x_input[0] = 1\n",
        "else:\n",
        "  x_input[0] = 2\n",
        "x_input.pop(1)\n",
        "x_input.pop(4)\n",
        "print(x_input)\n",
        "x_input = np.array([x_input], dtype=object)\n",
        "print(x_input)\n",
        "x_input = ct.transform(x_input)\n",
        "x_input[:,33:] = sc.transform(x_input[:,33:])\n",
        "\n",
        "y_pred = classifier.predict(x_input)\n",
        "if(y_pred==0):\n",
        "  print(\"draw\")\n",
        "elif(y_pred==1):\n",
        "  print(\"1st team lose\")\n",
        "else:\n",
        "  print(\"1st team win\")\n"
      ],
      "metadata": {
        "id": "wJ1LlDCmEWUe",
        "colab": {
          "base_uri": "https://localhost:8080/"
        },
        "outputId": "8100c229-e320-4f2e-b5f3-1d715097383d"
      },
      "execution_count": 130,
      "outputs": [
        {
          "output_type": "stream",
          "name": "stdout",
          "text": [
            "give a list with params for football match\n",
            "['England','Spain',7,5,'FIFA World Cup qualification','England',False,83,84,88,82,86,86,81,80]\n",
            "[0, 7, 5, 'FIFA World Cup qualification', False, 83, 84, 88, 82, 86, 86, 81, 80]\n",
            "[[0 7 5 'FIFA World Cup qualification' False 83 84 88 82 86 86 81 80]]\n",
            "1st team win\n"
          ]
        }
      ]
    },
    {
      "cell_type": "code",
      "source": [],
      "metadata": {
        "id": "6Bk0EOUof3UG"
      },
      "execution_count": null,
      "outputs": []
    }
  ]
}